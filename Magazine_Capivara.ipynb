{
  "nbformat": 4,
  "nbformat_minor": 0,
  "metadata": {
    "colab": {
      "provenance": [],
      "toc_visible": true,
      "authorship_tag": "ABX9TyMl9NGBf1kARh7Nj5NdaHLB",
      "include_colab_link": true
    },
    "kernelspec": {
      "name": "python3",
      "display_name": "Python 3"
    },
    "language_info": {
      "name": "python"
    }
  },
  "cells": [
    {
      "cell_type": "markdown",
      "metadata": {
        "id": "view-in-github",
        "colab_type": "text"
      },
      "source": [
        "<a href=\"https://colab.research.google.com/github/flaviare1s/magazine-capivara/blob/main/Magazine_Capivara.ipynb\" target=\"_parent\"><img src=\"https://colab.research.google.com/assets/colab-badge.svg\" alt=\"Open In Colab\"/></a>"
      ]
    },
    {
      "cell_type": "markdown",
      "source": [
        "# Magazine Capivara"
      ],
      "metadata": {
        "id": "17JtmxmCJUxG"
      }
    },
    {
      "cell_type": "markdown",
      "source": [
        "## Imports das Bibliotecas"
      ],
      "metadata": {
        "id": "JLhNsnbpJZ-l"
      }
    },
    {
      "cell_type": "code",
      "execution_count": 1,
      "metadata": {
        "id": "bE9wCuB-FktC"
      },
      "outputs": [],
      "source": [
        "import pandas as pd\n",
        "import numpy as np"
      ]
    },
    {
      "cell_type": "markdown",
      "source": [
        "## Import dos dados"
      ],
      "metadata": {
        "id": "db1UyjQgJeHm"
      }
    },
    {
      "cell_type": "code",
      "source": [
        "df = pd.read_csv('https://docs.google.com/spreadsheets/d/e/2PACX-1vTXDffy5v8dZQdPVO0oZYU-m4DAKYQa5wIO7QvTudUUaDt7gwEInmB5mTmbTxrRjCSqB6zwSr6XoWhA/pub?output=csv')\n",
        "df.head()"
      ],
      "metadata": {
        "colab": {
          "base_uri": "https://localhost:8080/",
          "height": 206
        },
        "id": "SmrgN0jMFsQ2",
        "outputId": "8de20c59-dd68-40d2-8f75-8892034bcd38"
      },
      "execution_count": 2,
      "outputs": [
        {
          "output_type": "execute_result",
          "data": {
            "text/plain": [
              "         Data  Receita  Custo  Lucro  Quantidade de Vendas  Novos Clientes  \\\n",
              "0  2023-01-01    19352   6031  13321                    76               8   \n",
              "1  2023-01-01    47585  29758  17827                     7              13   \n",
              "2  2023-01-02    36867  10699  26168                    29              12   \n",
              "3  2023-01-02    30334   5471  24863                    11              24   \n",
              "4  2023-01-03     8644   4939   3705                    33               1   \n",
              "\n",
              "  Categoria do Produto  Satisfação do Cliente Região  \n",
              "0               Roupas                      1  Oeste  \n",
              "1               Móveis                      1  Leste  \n",
              "2          Eletrônicos                      5    Sul  \n",
              "3           Brinquedos                      5  Norte  \n",
              "4               Móveis                      3  Norte  "
            ],
            "text/html": [
              "\n",
              "  <div id=\"df-428f1562-7843-46c9-9905-22b1ee8b8d6c\" class=\"colab-df-container\">\n",
              "    <div>\n",
              "<style scoped>\n",
              "    .dataframe tbody tr th:only-of-type {\n",
              "        vertical-align: middle;\n",
              "    }\n",
              "\n",
              "    .dataframe tbody tr th {\n",
              "        vertical-align: top;\n",
              "    }\n",
              "\n",
              "    .dataframe thead th {\n",
              "        text-align: right;\n",
              "    }\n",
              "</style>\n",
              "<table border=\"1\" class=\"dataframe\">\n",
              "  <thead>\n",
              "    <tr style=\"text-align: right;\">\n",
              "      <th></th>\n",
              "      <th>Data</th>\n",
              "      <th>Receita</th>\n",
              "      <th>Custo</th>\n",
              "      <th>Lucro</th>\n",
              "      <th>Quantidade de Vendas</th>\n",
              "      <th>Novos Clientes</th>\n",
              "      <th>Categoria do Produto</th>\n",
              "      <th>Satisfação do Cliente</th>\n",
              "      <th>Região</th>\n",
              "    </tr>\n",
              "  </thead>\n",
              "  <tbody>\n",
              "    <tr>\n",
              "      <th>0</th>\n",
              "      <td>2023-01-01</td>\n",
              "      <td>19352</td>\n",
              "      <td>6031</td>\n",
              "      <td>13321</td>\n",
              "      <td>76</td>\n",
              "      <td>8</td>\n",
              "      <td>Roupas</td>\n",
              "      <td>1</td>\n",
              "      <td>Oeste</td>\n",
              "    </tr>\n",
              "    <tr>\n",
              "      <th>1</th>\n",
              "      <td>2023-01-01</td>\n",
              "      <td>47585</td>\n",
              "      <td>29758</td>\n",
              "      <td>17827</td>\n",
              "      <td>7</td>\n",
              "      <td>13</td>\n",
              "      <td>Móveis</td>\n",
              "      <td>1</td>\n",
              "      <td>Leste</td>\n",
              "    </tr>\n",
              "    <tr>\n",
              "      <th>2</th>\n",
              "      <td>2023-01-02</td>\n",
              "      <td>36867</td>\n",
              "      <td>10699</td>\n",
              "      <td>26168</td>\n",
              "      <td>29</td>\n",
              "      <td>12</td>\n",
              "      <td>Eletrônicos</td>\n",
              "      <td>5</td>\n",
              "      <td>Sul</td>\n",
              "    </tr>\n",
              "    <tr>\n",
              "      <th>3</th>\n",
              "      <td>2023-01-02</td>\n",
              "      <td>30334</td>\n",
              "      <td>5471</td>\n",
              "      <td>24863</td>\n",
              "      <td>11</td>\n",
              "      <td>24</td>\n",
              "      <td>Brinquedos</td>\n",
              "      <td>5</td>\n",
              "      <td>Norte</td>\n",
              "    </tr>\n",
              "    <tr>\n",
              "      <th>4</th>\n",
              "      <td>2023-01-03</td>\n",
              "      <td>8644</td>\n",
              "      <td>4939</td>\n",
              "      <td>3705</td>\n",
              "      <td>33</td>\n",
              "      <td>1</td>\n",
              "      <td>Móveis</td>\n",
              "      <td>3</td>\n",
              "      <td>Norte</td>\n",
              "    </tr>\n",
              "  </tbody>\n",
              "</table>\n",
              "</div>\n",
              "    <div class=\"colab-df-buttons\">\n",
              "\n",
              "  <div class=\"colab-df-container\">\n",
              "    <button class=\"colab-df-convert\" onclick=\"convertToInteractive('df-428f1562-7843-46c9-9905-22b1ee8b8d6c')\"\n",
              "            title=\"Convert this dataframe to an interactive table.\"\n",
              "            style=\"display:none;\">\n",
              "\n",
              "  <svg xmlns=\"http://www.w3.org/2000/svg\" height=\"24px\" viewBox=\"0 -960 960 960\">\n",
              "    <path d=\"M120-120v-720h720v720H120Zm60-500h600v-160H180v160Zm220 220h160v-160H400v160Zm0 220h160v-160H400v160ZM180-400h160v-160H180v160Zm440 0h160v-160H620v160ZM180-180h160v-160H180v160Zm440 0h160v-160H620v160Z\"/>\n",
              "  </svg>\n",
              "    </button>\n",
              "\n",
              "  <style>\n",
              "    .colab-df-container {\n",
              "      display:flex;\n",
              "      gap: 12px;\n",
              "    }\n",
              "\n",
              "    .colab-df-convert {\n",
              "      background-color: #E8F0FE;\n",
              "      border: none;\n",
              "      border-radius: 50%;\n",
              "      cursor: pointer;\n",
              "      display: none;\n",
              "      fill: #1967D2;\n",
              "      height: 32px;\n",
              "      padding: 0 0 0 0;\n",
              "      width: 32px;\n",
              "    }\n",
              "\n",
              "    .colab-df-convert:hover {\n",
              "      background-color: #E2EBFA;\n",
              "      box-shadow: 0px 1px 2px rgba(60, 64, 67, 0.3), 0px 1px 3px 1px rgba(60, 64, 67, 0.15);\n",
              "      fill: #174EA6;\n",
              "    }\n",
              "\n",
              "    .colab-df-buttons div {\n",
              "      margin-bottom: 4px;\n",
              "    }\n",
              "\n",
              "    [theme=dark] .colab-df-convert {\n",
              "      background-color: #3B4455;\n",
              "      fill: #D2E3FC;\n",
              "    }\n",
              "\n",
              "    [theme=dark] .colab-df-convert:hover {\n",
              "      background-color: #434B5C;\n",
              "      box-shadow: 0px 1px 3px 1px rgba(0, 0, 0, 0.15);\n",
              "      filter: drop-shadow(0px 1px 2px rgba(0, 0, 0, 0.3));\n",
              "      fill: #FFFFFF;\n",
              "    }\n",
              "  </style>\n",
              "\n",
              "    <script>\n",
              "      const buttonEl =\n",
              "        document.querySelector('#df-428f1562-7843-46c9-9905-22b1ee8b8d6c button.colab-df-convert');\n",
              "      buttonEl.style.display =\n",
              "        google.colab.kernel.accessAllowed ? 'block' : 'none';\n",
              "\n",
              "      async function convertToInteractive(key) {\n",
              "        const element = document.querySelector('#df-428f1562-7843-46c9-9905-22b1ee8b8d6c');\n",
              "        const dataTable =\n",
              "          await google.colab.kernel.invokeFunction('convertToInteractive',\n",
              "                                                    [key], {});\n",
              "        if (!dataTable) return;\n",
              "\n",
              "        const docLinkHtml = 'Like what you see? Visit the ' +\n",
              "          '<a target=\"_blank\" href=https://colab.research.google.com/notebooks/data_table.ipynb>data table notebook</a>'\n",
              "          + ' to learn more about interactive tables.';\n",
              "        element.innerHTML = '';\n",
              "        dataTable['output_type'] = 'display_data';\n",
              "        await google.colab.output.renderOutput(dataTable, element);\n",
              "        const docLink = document.createElement('div');\n",
              "        docLink.innerHTML = docLinkHtml;\n",
              "        element.appendChild(docLink);\n",
              "      }\n",
              "    </script>\n",
              "  </div>\n",
              "\n",
              "\n",
              "<div id=\"df-903aa570-a1f5-4a06-acb6-c2748de684d5\">\n",
              "  <button class=\"colab-df-quickchart\" onclick=\"quickchart('df-903aa570-a1f5-4a06-acb6-c2748de684d5')\"\n",
              "            title=\"Suggest charts\"\n",
              "            style=\"display:none;\">\n",
              "\n",
              "<svg xmlns=\"http://www.w3.org/2000/svg\" height=\"24px\"viewBox=\"0 0 24 24\"\n",
              "     width=\"24px\">\n",
              "    <g>\n",
              "        <path d=\"M19 3H5c-1.1 0-2 .9-2 2v14c0 1.1.9 2 2 2h14c1.1 0 2-.9 2-2V5c0-1.1-.9-2-2-2zM9 17H7v-7h2v7zm4 0h-2V7h2v10zm4 0h-2v-4h2v4z\"/>\n",
              "    </g>\n",
              "</svg>\n",
              "  </button>\n",
              "\n",
              "<style>\n",
              "  .colab-df-quickchart {\n",
              "      --bg-color: #E8F0FE;\n",
              "      --fill-color: #1967D2;\n",
              "      --hover-bg-color: #E2EBFA;\n",
              "      --hover-fill-color: #174EA6;\n",
              "      --disabled-fill-color: #AAA;\n",
              "      --disabled-bg-color: #DDD;\n",
              "  }\n",
              "\n",
              "  [theme=dark] .colab-df-quickchart {\n",
              "      --bg-color: #3B4455;\n",
              "      --fill-color: #D2E3FC;\n",
              "      --hover-bg-color: #434B5C;\n",
              "      --hover-fill-color: #FFFFFF;\n",
              "      --disabled-bg-color: #3B4455;\n",
              "      --disabled-fill-color: #666;\n",
              "  }\n",
              "\n",
              "  .colab-df-quickchart {\n",
              "    background-color: var(--bg-color);\n",
              "    border: none;\n",
              "    border-radius: 50%;\n",
              "    cursor: pointer;\n",
              "    display: none;\n",
              "    fill: var(--fill-color);\n",
              "    height: 32px;\n",
              "    padding: 0;\n",
              "    width: 32px;\n",
              "  }\n",
              "\n",
              "  .colab-df-quickchart:hover {\n",
              "    background-color: var(--hover-bg-color);\n",
              "    box-shadow: 0 1px 2px rgba(60, 64, 67, 0.3), 0 1px 3px 1px rgba(60, 64, 67, 0.15);\n",
              "    fill: var(--button-hover-fill-color);\n",
              "  }\n",
              "\n",
              "  .colab-df-quickchart-complete:disabled,\n",
              "  .colab-df-quickchart-complete:disabled:hover {\n",
              "    background-color: var(--disabled-bg-color);\n",
              "    fill: var(--disabled-fill-color);\n",
              "    box-shadow: none;\n",
              "  }\n",
              "\n",
              "  .colab-df-spinner {\n",
              "    border: 2px solid var(--fill-color);\n",
              "    border-color: transparent;\n",
              "    border-bottom-color: var(--fill-color);\n",
              "    animation:\n",
              "      spin 1s steps(1) infinite;\n",
              "  }\n",
              "\n",
              "  @keyframes spin {\n",
              "    0% {\n",
              "      border-color: transparent;\n",
              "      border-bottom-color: var(--fill-color);\n",
              "      border-left-color: var(--fill-color);\n",
              "    }\n",
              "    20% {\n",
              "      border-color: transparent;\n",
              "      border-left-color: var(--fill-color);\n",
              "      border-top-color: var(--fill-color);\n",
              "    }\n",
              "    30% {\n",
              "      border-color: transparent;\n",
              "      border-left-color: var(--fill-color);\n",
              "      border-top-color: var(--fill-color);\n",
              "      border-right-color: var(--fill-color);\n",
              "    }\n",
              "    40% {\n",
              "      border-color: transparent;\n",
              "      border-right-color: var(--fill-color);\n",
              "      border-top-color: var(--fill-color);\n",
              "    }\n",
              "    60% {\n",
              "      border-color: transparent;\n",
              "      border-right-color: var(--fill-color);\n",
              "    }\n",
              "    80% {\n",
              "      border-color: transparent;\n",
              "      border-right-color: var(--fill-color);\n",
              "      border-bottom-color: var(--fill-color);\n",
              "    }\n",
              "    90% {\n",
              "      border-color: transparent;\n",
              "      border-bottom-color: var(--fill-color);\n",
              "    }\n",
              "  }\n",
              "</style>\n",
              "\n",
              "  <script>\n",
              "    async function quickchart(key) {\n",
              "      const quickchartButtonEl =\n",
              "        document.querySelector('#' + key + ' button');\n",
              "      quickchartButtonEl.disabled = true;  // To prevent multiple clicks.\n",
              "      quickchartButtonEl.classList.add('colab-df-spinner');\n",
              "      try {\n",
              "        const charts = await google.colab.kernel.invokeFunction(\n",
              "            'suggestCharts', [key], {});\n",
              "      } catch (error) {\n",
              "        console.error('Error during call to suggestCharts:', error);\n",
              "      }\n",
              "      quickchartButtonEl.classList.remove('colab-df-spinner');\n",
              "      quickchartButtonEl.classList.add('colab-df-quickchart-complete');\n",
              "    }\n",
              "    (() => {\n",
              "      let quickchartButtonEl =\n",
              "        document.querySelector('#df-903aa570-a1f5-4a06-acb6-c2748de684d5 button');\n",
              "      quickchartButtonEl.style.display =\n",
              "        google.colab.kernel.accessAllowed ? 'block' : 'none';\n",
              "    })();\n",
              "  </script>\n",
              "</div>\n",
              "\n",
              "    </div>\n",
              "  </div>\n"
            ],
            "application/vnd.google.colaboratory.intrinsic+json": {
              "type": "dataframe",
              "variable_name": "df",
              "summary": "{\n  \"name\": \"df\",\n  \"rows\": 600,\n  \"fields\": [\n    {\n      \"column\": \"Data\",\n      \"properties\": {\n        \"dtype\": \"object\",\n        \"num_unique_values\": 365,\n        \"samples\": [\n          \"2023-07-13\",\n          \"2023-02-03\",\n          \"2023-01-16\"\n        ],\n        \"semantic_type\": \"\",\n        \"description\": \"\"\n      }\n    },\n    {\n      \"column\": \"Receita\",\n      \"properties\": {\n        \"dtype\": \"number\",\n        \"std\": 14618,\n        \"min\": 1248,\n        \"max\": 49986,\n        \"num_unique_values\": 597,\n        \"samples\": [\n          4772,\n          31840,\n          16836\n        ],\n        \"semantic_type\": \"\",\n        \"description\": \"\"\n      }\n    },\n    {\n      \"column\": \"Custo\",\n      \"properties\": {\n        \"dtype\": \"number\",\n        \"std\": 11074,\n        \"min\": 8,\n        \"max\": 47754,\n        \"num_unique_values\": 597,\n        \"samples\": [\n          3755,\n          19417,\n          14399\n        ],\n        \"semantic_type\": \"\",\n        \"description\": \"\"\n      }\n    },\n    {\n      \"column\": \"Lucro\",\n      \"properties\": {\n        \"dtype\": \"number\",\n        \"std\": 11311,\n        \"min\": 13,\n        \"max\": 48134,\n        \"num_unique_values\": 596,\n        \"samples\": [\n          26661,\n          19178,\n          2448\n        ],\n        \"semantic_type\": \"\",\n        \"description\": \"\"\n      }\n    },\n    {\n      \"column\": \"Quantidade de Vendas\",\n      \"properties\": {\n        \"dtype\": \"number\",\n        \"std\": 28,\n        \"min\": 1,\n        \"max\": 99,\n        \"num_unique_values\": 99,\n        \"samples\": [\n          86,\n          34,\n          52\n        ],\n        \"semantic_type\": \"\",\n        \"description\": \"\"\n      }\n    },\n    {\n      \"column\": \"Novos Clientes\",\n      \"properties\": {\n        \"dtype\": \"number\",\n        \"std\": 14,\n        \"min\": 0,\n        \"max\": 49,\n        \"num_unique_values\": 50,\n        \"samples\": [\n          48,\n          30,\n          43\n        ],\n        \"semantic_type\": \"\",\n        \"description\": \"\"\n      }\n    },\n    {\n      \"column\": \"Categoria do Produto\",\n      \"properties\": {\n        \"dtype\": \"category\",\n        \"num_unique_values\": 5,\n        \"samples\": [\n          \"M\\u00f3veis\",\n          \"Alimentos\",\n          \"Eletr\\u00f4nicos\"\n        ],\n        \"semantic_type\": \"\",\n        \"description\": \"\"\n      }\n    },\n    {\n      \"column\": \"Satisfa\\u00e7\\u00e3o do Cliente\",\n      \"properties\": {\n        \"dtype\": \"number\",\n        \"std\": 1,\n        \"min\": 1,\n        \"max\": 5,\n        \"num_unique_values\": 5,\n        \"samples\": [\n          5,\n          2,\n          3\n        ],\n        \"semantic_type\": \"\",\n        \"description\": \"\"\n      }\n    },\n    {\n      \"column\": \"Regi\\u00e3o\",\n      \"properties\": {\n        \"dtype\": \"category\",\n        \"num_unique_values\": 4,\n        \"samples\": [\n          \"Leste\",\n          \"Norte\",\n          \"Oeste\"\n        ],\n        \"semantic_type\": \"\",\n        \"description\": \"\"\n      }\n    }\n  ]\n}"
            }
          },
          "metadata": {},
          "execution_count": 2
        }
      ]
    },
    {
      "cell_type": "markdown",
      "source": [
        "## Conexão com o Google Cloud"
      ],
      "metadata": {
        "id": "7qFJopn1JiTu"
      }
    },
    {
      "cell_type": "code",
      "source": [
        "from google.colab import auth\n",
        "auth.authenticate_user()\n",
        "project_id = 'flavia-ad13'\n",
        "!gcloud config set project {project_id}\n",
        "\n",
        "from google.cloud import storage\n",
        "client = storage.Client()\n",
        "bucket_name = 'capivara-magazine2025'\n",
        "bucket = client.bucket(bucket_name)\n",
        "\n",
        "df.to_csv('capivara-bruta.csv', index=False)\n",
        "destination_blob_name = 'dados-brutos/capivara-bruta.csv'\n",
        "source_file_name = 'capivara-bruta.csv'\n",
        "blob = bucket.blob(destination_blob_name)\n",
        "blob.upload_from_filename(source_file_name)"
      ],
      "metadata": {
        "colab": {
          "base_uri": "https://localhost:8080/"
        },
        "id": "h69pQkyGFwk2",
        "outputId": "bd5a1d46-fc7d-4a35-deb0-d7f617acd3db"
      },
      "execution_count": 3,
      "outputs": [
        {
          "output_type": "stream",
          "name": "stdout",
          "text": [
            "Updated property [core/project].\n"
          ]
        }
      ]
    },
    {
      "cell_type": "code",
      "source": [],
      "metadata": {
        "id": "spSCal0QJpgn"
      },
      "execution_count": null,
      "outputs": []
    },
    {
      "cell_type": "markdown",
      "source": [
        "## 1. Divisão em Categorias"
      ],
      "metadata": {
        "id": "PUCaR0aDJmvH"
      }
    },
    {
      "cell_type": "markdown",
      "source": [
        "### Descobrindo quais categorias existem"
      ],
      "metadata": {
        "id": "YXquUgM_Jrvn"
      }
    },
    {
      "cell_type": "code",
      "source": [
        "categorias_unicas = df[\"Categoria do Produto\"].unique()\n",
        "print(categorias_unicas)"
      ],
      "metadata": {
        "colab": {
          "base_uri": "https://localhost:8080/"
        },
        "id": "vYhWnutKJvoG",
        "outputId": "2f9742d6-87c3-46ef-a21c-375cebc08584"
      },
      "execution_count": 4,
      "outputs": [
        {
          "output_type": "stream",
          "name": "stdout",
          "text": [
            "['Roupas' 'Móveis' 'Eletrônicos' 'Brinquedos' 'Alimentos']\n"
          ]
        }
      ]
    },
    {
      "cell_type": "markdown",
      "source": [
        "### Separando em DataFrames por categoria"
      ],
      "metadata": {
        "id": "qA-hSwi-KKIv"
      }
    },
    {
      "cell_type": "code",
      "source": [
        "dfs_por_categoria = {categoria: df[df[\"Categoria do Produto\"] == categoria] for categoria in df[\"Categoria do Produto\"].unique()}"
      ],
      "metadata": {
        "id": "FHf3mQEGKSIG"
      },
      "execution_count": 5,
      "outputs": []
    },
    {
      "cell_type": "code",
      "source": [
        "df_roupas = dfs_por_categoria[\"Roupas\"]\n",
        "df_moveis = dfs_por_categoria[\"Móveis\"]\n",
        "df_eletronicos = dfs_por_categoria[\"Eletrônicos\"]\n",
        "df_brinquedos = dfs_por_categoria[\"Brinquedos\"]\n",
        "df_alimentos = dfs_por_categoria[\"Alimentos\"]"
      ],
      "metadata": {
        "id": "f0KOL0biKgOO"
      },
      "execution_count": 6,
      "outputs": []
    },
    {
      "cell_type": "markdown",
      "source": [
        "### Salvando em CSV e enviando para o GCP"
      ],
      "metadata": {
        "id": "dFVi5xUxK80G"
      }
    },
    {
      "cell_type": "code",
      "source": [
        "df_roupas.to_csv('capivara-bruta-roupas.csv', index=False)\n",
        "destination_blob_name = 'categoria/capivara-bruta-roupas.csv'\n",
        "source_file_name = 'capivara-bruta-roupas.csv'\n",
        "blob = bucket.blob(destination_blob_name)\n",
        "blob.upload_from_filename(source_file_name)"
      ],
      "metadata": {
        "id": "Fs9QNCJRLGqG"
      },
      "execution_count": 9,
      "outputs": []
    },
    {
      "cell_type": "code",
      "source": [
        "df_moveis.to_csv('capivara-bruta-moveis.csv', index=False)\n",
        "destination_blob_name = 'categoria/capivara-bruta-moveis.csv'\n",
        "source_file_name = 'capivara-bruta-moveis.csv'\n",
        "blob = bucket.blob(destination_blob_name)\n",
        "blob.upload_from_filename(source_file_name)"
      ],
      "metadata": {
        "id": "tCXAZDDuMNZI"
      },
      "execution_count": 10,
      "outputs": []
    },
    {
      "cell_type": "code",
      "source": [
        "df_eletronicos.to_csv('capivara-bruta-eletronicos.csv', index=False)\n",
        "destination_blob_name = 'categoria/capivara-bruta-eletronicos.csv'\n",
        "source_file_name = 'capivara-bruta-eletronicos.csv'\n",
        "blob = bucket.blob(destination_blob_name)\n",
        "blob.upload_from_filename(source_file_name)"
      ],
      "metadata": {
        "id": "jBZuvkapMNO-"
      },
      "execution_count": 11,
      "outputs": []
    },
    {
      "cell_type": "code",
      "source": [
        "df_brinquedos.to_csv('capivara-bruta-brinquedos.csv', index=False)\n",
        "destination_blob_name = 'categoria/capivara-bruta-brinquedos.csv'\n",
        "source_file_name = 'capivara-bruta-brinquedos.csv'\n",
        "blob = bucket.blob(destination_blob_name)\n",
        "blob.upload_from_filename(source_file_name)"
      ],
      "metadata": {
        "id": "m81bt1oqMNHl"
      },
      "execution_count": 12,
      "outputs": []
    },
    {
      "cell_type": "code",
      "source": [
        "df_alimentos.to_csv('capivara-bruta-alimentos.csv', index=False)\n",
        "destination_blob_name = 'categoria/capivara-bruta-alimentos.csv'\n",
        "source_file_name = 'capivara-bruta-alimentos.csv'\n",
        "blob = bucket.blob(destination_blob_name)\n",
        "blob.upload_from_filename(source_file_name)"
      ],
      "metadata": {
        "id": "53gVWJtpMM8H"
      },
      "execution_count": 13,
      "outputs": []
    },
    {
      "cell_type": "markdown",
      "source": [
        "## 2. Identificação dos produtos mais lucrativos"
      ],
      "metadata": {
        "id": "I8bnGFyfMvKn"
      }
    },
    {
      "cell_type": "markdown",
      "source": [
        "### Identificando as categorias que geraram mais lucro"
      ],
      "metadata": {
        "id": "f0UEWos_NcBX"
      }
    },
    {
      "cell_type": "code",
      "source": [
        "lucro_total_por_categoria = df.groupby(\"Categoria do Produto\")[\"Lucro\"].sum().sort_values(ascending=False)\n",
        "print(lucro_total_por_categoria)"
      ],
      "metadata": {
        "colab": {
          "base_uri": "https://localhost:8080/"
        },
        "id": "AVI0wj5ZNRu3",
        "outputId": "9deb5261-eee6-4dee-8c67-28a891875c35"
      },
      "execution_count": 16,
      "outputs": [
        {
          "output_type": "stream",
          "name": "stdout",
          "text": [
            "Categoria do Produto\n",
            "Alimentos      1695177\n",
            "Brinquedos     1631946\n",
            "Eletrônicos    1622365\n",
            "Roupas         1342888\n",
            "Móveis         1288416\n",
            "Name: Lucro, dtype: int64\n"
          ]
        }
      ]
    },
    {
      "cell_type": "markdown",
      "source": [
        "### Calculando a média geral de lucro"
      ],
      "metadata": {
        "id": "IIqzL178OftH"
      }
    },
    {
      "cell_type": "code",
      "source": [
        "media_geral_lucro = df[\"Lucro\"].mean().round(2)\n",
        "print(media_geral_lucro)"
      ],
      "metadata": {
        "colab": {
          "base_uri": "https://localhost:8080/"
        },
        "id": "JP7FWFRVOb7-",
        "outputId": "b907c3f2-7763-466c-fb90-cc782eaf5be6"
      },
      "execution_count": 20,
      "outputs": [
        {
          "output_type": "stream",
          "name": "stdout",
          "text": [
            "12634.65\n"
          ]
        }
      ]
    },
    {
      "cell_type": "markdown",
      "source": [
        "### Filtrando os produtos com lucro acima da média"
      ],
      "metadata": {
        "id": "04P6GhJZSXOP"
      }
    },
    {
      "cell_type": "code",
      "source": [
        "df_lucro_acima_media = df[df[\"Lucro\"] > media_geral_lucro]\n",
        "df_lucro_acima_media.head()"
      ],
      "metadata": {
        "colab": {
          "base_uri": "https://localhost:8080/",
          "height": 206
        },
        "id": "2Og0JCVKSWHX",
        "outputId": "07ba6951-b615-4282-add4-ad68121701e2"
      },
      "execution_count": 22,
      "outputs": [
        {
          "output_type": "execute_result",
          "data": {
            "text/plain": [
              "         Data  Receita  Custo  Lucro  Quantidade de Vendas  Novos Clientes  \\\n",
              "0  2023-01-01    19352   6031  13321                    76               8   \n",
              "1  2023-01-01    47585  29758  17827                     7              13   \n",
              "2  2023-01-02    36867  10699  26168                    29              12   \n",
              "3  2023-01-02    30334   5471  24863                    11              24   \n",
              "9  2023-01-06    35695  15800  19895                    75               2   \n",
              "\n",
              "  Categoria do Produto  Satisfação do Cliente Região  \n",
              "0               Roupas                      1  Oeste  \n",
              "1               Móveis                      1  Leste  \n",
              "2          Eletrônicos                      5    Sul  \n",
              "3           Brinquedos                      5  Norte  \n",
              "9            Alimentos                      5  Leste  "
            ],
            "text/html": [
              "\n",
              "  <div id=\"df-00d1e56a-2e59-40b0-9bfb-42437c0fe099\" class=\"colab-df-container\">\n",
              "    <div>\n",
              "<style scoped>\n",
              "    .dataframe tbody tr th:only-of-type {\n",
              "        vertical-align: middle;\n",
              "    }\n",
              "\n",
              "    .dataframe tbody tr th {\n",
              "        vertical-align: top;\n",
              "    }\n",
              "\n",
              "    .dataframe thead th {\n",
              "        text-align: right;\n",
              "    }\n",
              "</style>\n",
              "<table border=\"1\" class=\"dataframe\">\n",
              "  <thead>\n",
              "    <tr style=\"text-align: right;\">\n",
              "      <th></th>\n",
              "      <th>Data</th>\n",
              "      <th>Receita</th>\n",
              "      <th>Custo</th>\n",
              "      <th>Lucro</th>\n",
              "      <th>Quantidade de Vendas</th>\n",
              "      <th>Novos Clientes</th>\n",
              "      <th>Categoria do Produto</th>\n",
              "      <th>Satisfação do Cliente</th>\n",
              "      <th>Região</th>\n",
              "    </tr>\n",
              "  </thead>\n",
              "  <tbody>\n",
              "    <tr>\n",
              "      <th>0</th>\n",
              "      <td>2023-01-01</td>\n",
              "      <td>19352</td>\n",
              "      <td>6031</td>\n",
              "      <td>13321</td>\n",
              "      <td>76</td>\n",
              "      <td>8</td>\n",
              "      <td>Roupas</td>\n",
              "      <td>1</td>\n",
              "      <td>Oeste</td>\n",
              "    </tr>\n",
              "    <tr>\n",
              "      <th>1</th>\n",
              "      <td>2023-01-01</td>\n",
              "      <td>47585</td>\n",
              "      <td>29758</td>\n",
              "      <td>17827</td>\n",
              "      <td>7</td>\n",
              "      <td>13</td>\n",
              "      <td>Móveis</td>\n",
              "      <td>1</td>\n",
              "      <td>Leste</td>\n",
              "    </tr>\n",
              "    <tr>\n",
              "      <th>2</th>\n",
              "      <td>2023-01-02</td>\n",
              "      <td>36867</td>\n",
              "      <td>10699</td>\n",
              "      <td>26168</td>\n",
              "      <td>29</td>\n",
              "      <td>12</td>\n",
              "      <td>Eletrônicos</td>\n",
              "      <td>5</td>\n",
              "      <td>Sul</td>\n",
              "    </tr>\n",
              "    <tr>\n",
              "      <th>3</th>\n",
              "      <td>2023-01-02</td>\n",
              "      <td>30334</td>\n",
              "      <td>5471</td>\n",
              "      <td>24863</td>\n",
              "      <td>11</td>\n",
              "      <td>24</td>\n",
              "      <td>Brinquedos</td>\n",
              "      <td>5</td>\n",
              "      <td>Norte</td>\n",
              "    </tr>\n",
              "    <tr>\n",
              "      <th>9</th>\n",
              "      <td>2023-01-06</td>\n",
              "      <td>35695</td>\n",
              "      <td>15800</td>\n",
              "      <td>19895</td>\n",
              "      <td>75</td>\n",
              "      <td>2</td>\n",
              "      <td>Alimentos</td>\n",
              "      <td>5</td>\n",
              "      <td>Leste</td>\n",
              "    </tr>\n",
              "  </tbody>\n",
              "</table>\n",
              "</div>\n",
              "    <div class=\"colab-df-buttons\">\n",
              "\n",
              "  <div class=\"colab-df-container\">\n",
              "    <button class=\"colab-df-convert\" onclick=\"convertToInteractive('df-00d1e56a-2e59-40b0-9bfb-42437c0fe099')\"\n",
              "            title=\"Convert this dataframe to an interactive table.\"\n",
              "            style=\"display:none;\">\n",
              "\n",
              "  <svg xmlns=\"http://www.w3.org/2000/svg\" height=\"24px\" viewBox=\"0 -960 960 960\">\n",
              "    <path d=\"M120-120v-720h720v720H120Zm60-500h600v-160H180v160Zm220 220h160v-160H400v160Zm0 220h160v-160H400v160ZM180-400h160v-160H180v160Zm440 0h160v-160H620v160ZM180-180h160v-160H180v160Zm440 0h160v-160H620v160Z\"/>\n",
              "  </svg>\n",
              "    </button>\n",
              "\n",
              "  <style>\n",
              "    .colab-df-container {\n",
              "      display:flex;\n",
              "      gap: 12px;\n",
              "    }\n",
              "\n",
              "    .colab-df-convert {\n",
              "      background-color: #E8F0FE;\n",
              "      border: none;\n",
              "      border-radius: 50%;\n",
              "      cursor: pointer;\n",
              "      display: none;\n",
              "      fill: #1967D2;\n",
              "      height: 32px;\n",
              "      padding: 0 0 0 0;\n",
              "      width: 32px;\n",
              "    }\n",
              "\n",
              "    .colab-df-convert:hover {\n",
              "      background-color: #E2EBFA;\n",
              "      box-shadow: 0px 1px 2px rgba(60, 64, 67, 0.3), 0px 1px 3px 1px rgba(60, 64, 67, 0.15);\n",
              "      fill: #174EA6;\n",
              "    }\n",
              "\n",
              "    .colab-df-buttons div {\n",
              "      margin-bottom: 4px;\n",
              "    }\n",
              "\n",
              "    [theme=dark] .colab-df-convert {\n",
              "      background-color: #3B4455;\n",
              "      fill: #D2E3FC;\n",
              "    }\n",
              "\n",
              "    [theme=dark] .colab-df-convert:hover {\n",
              "      background-color: #434B5C;\n",
              "      box-shadow: 0px 1px 3px 1px rgba(0, 0, 0, 0.15);\n",
              "      filter: drop-shadow(0px 1px 2px rgba(0, 0, 0, 0.3));\n",
              "      fill: #FFFFFF;\n",
              "    }\n",
              "  </style>\n",
              "\n",
              "    <script>\n",
              "      const buttonEl =\n",
              "        document.querySelector('#df-00d1e56a-2e59-40b0-9bfb-42437c0fe099 button.colab-df-convert');\n",
              "      buttonEl.style.display =\n",
              "        google.colab.kernel.accessAllowed ? 'block' : 'none';\n",
              "\n",
              "      async function convertToInteractive(key) {\n",
              "        const element = document.querySelector('#df-00d1e56a-2e59-40b0-9bfb-42437c0fe099');\n",
              "        const dataTable =\n",
              "          await google.colab.kernel.invokeFunction('convertToInteractive',\n",
              "                                                    [key], {});\n",
              "        if (!dataTable) return;\n",
              "\n",
              "        const docLinkHtml = 'Like what you see? Visit the ' +\n",
              "          '<a target=\"_blank\" href=https://colab.research.google.com/notebooks/data_table.ipynb>data table notebook</a>'\n",
              "          + ' to learn more about interactive tables.';\n",
              "        element.innerHTML = '';\n",
              "        dataTable['output_type'] = 'display_data';\n",
              "        await google.colab.output.renderOutput(dataTable, element);\n",
              "        const docLink = document.createElement('div');\n",
              "        docLink.innerHTML = docLinkHtml;\n",
              "        element.appendChild(docLink);\n",
              "      }\n",
              "    </script>\n",
              "  </div>\n",
              "\n",
              "\n",
              "<div id=\"df-08a1b16b-a64c-431e-a4c6-c5b1ea768d9b\">\n",
              "  <button class=\"colab-df-quickchart\" onclick=\"quickchart('df-08a1b16b-a64c-431e-a4c6-c5b1ea768d9b')\"\n",
              "            title=\"Suggest charts\"\n",
              "            style=\"display:none;\">\n",
              "\n",
              "<svg xmlns=\"http://www.w3.org/2000/svg\" height=\"24px\"viewBox=\"0 0 24 24\"\n",
              "     width=\"24px\">\n",
              "    <g>\n",
              "        <path d=\"M19 3H5c-1.1 0-2 .9-2 2v14c0 1.1.9 2 2 2h14c1.1 0 2-.9 2-2V5c0-1.1-.9-2-2-2zM9 17H7v-7h2v7zm4 0h-2V7h2v10zm4 0h-2v-4h2v4z\"/>\n",
              "    </g>\n",
              "</svg>\n",
              "  </button>\n",
              "\n",
              "<style>\n",
              "  .colab-df-quickchart {\n",
              "      --bg-color: #E8F0FE;\n",
              "      --fill-color: #1967D2;\n",
              "      --hover-bg-color: #E2EBFA;\n",
              "      --hover-fill-color: #174EA6;\n",
              "      --disabled-fill-color: #AAA;\n",
              "      --disabled-bg-color: #DDD;\n",
              "  }\n",
              "\n",
              "  [theme=dark] .colab-df-quickchart {\n",
              "      --bg-color: #3B4455;\n",
              "      --fill-color: #D2E3FC;\n",
              "      --hover-bg-color: #434B5C;\n",
              "      --hover-fill-color: #FFFFFF;\n",
              "      --disabled-bg-color: #3B4455;\n",
              "      --disabled-fill-color: #666;\n",
              "  }\n",
              "\n",
              "  .colab-df-quickchart {\n",
              "    background-color: var(--bg-color);\n",
              "    border: none;\n",
              "    border-radius: 50%;\n",
              "    cursor: pointer;\n",
              "    display: none;\n",
              "    fill: var(--fill-color);\n",
              "    height: 32px;\n",
              "    padding: 0;\n",
              "    width: 32px;\n",
              "  }\n",
              "\n",
              "  .colab-df-quickchart:hover {\n",
              "    background-color: var(--hover-bg-color);\n",
              "    box-shadow: 0 1px 2px rgba(60, 64, 67, 0.3), 0 1px 3px 1px rgba(60, 64, 67, 0.15);\n",
              "    fill: var(--button-hover-fill-color);\n",
              "  }\n",
              "\n",
              "  .colab-df-quickchart-complete:disabled,\n",
              "  .colab-df-quickchart-complete:disabled:hover {\n",
              "    background-color: var(--disabled-bg-color);\n",
              "    fill: var(--disabled-fill-color);\n",
              "    box-shadow: none;\n",
              "  }\n",
              "\n",
              "  .colab-df-spinner {\n",
              "    border: 2px solid var(--fill-color);\n",
              "    border-color: transparent;\n",
              "    border-bottom-color: var(--fill-color);\n",
              "    animation:\n",
              "      spin 1s steps(1) infinite;\n",
              "  }\n",
              "\n",
              "  @keyframes spin {\n",
              "    0% {\n",
              "      border-color: transparent;\n",
              "      border-bottom-color: var(--fill-color);\n",
              "      border-left-color: var(--fill-color);\n",
              "    }\n",
              "    20% {\n",
              "      border-color: transparent;\n",
              "      border-left-color: var(--fill-color);\n",
              "      border-top-color: var(--fill-color);\n",
              "    }\n",
              "    30% {\n",
              "      border-color: transparent;\n",
              "      border-left-color: var(--fill-color);\n",
              "      border-top-color: var(--fill-color);\n",
              "      border-right-color: var(--fill-color);\n",
              "    }\n",
              "    40% {\n",
              "      border-color: transparent;\n",
              "      border-right-color: var(--fill-color);\n",
              "      border-top-color: var(--fill-color);\n",
              "    }\n",
              "    60% {\n",
              "      border-color: transparent;\n",
              "      border-right-color: var(--fill-color);\n",
              "    }\n",
              "    80% {\n",
              "      border-color: transparent;\n",
              "      border-right-color: var(--fill-color);\n",
              "      border-bottom-color: var(--fill-color);\n",
              "    }\n",
              "    90% {\n",
              "      border-color: transparent;\n",
              "      border-bottom-color: var(--fill-color);\n",
              "    }\n",
              "  }\n",
              "</style>\n",
              "\n",
              "  <script>\n",
              "    async function quickchart(key) {\n",
              "      const quickchartButtonEl =\n",
              "        document.querySelector('#' + key + ' button');\n",
              "      quickchartButtonEl.disabled = true;  // To prevent multiple clicks.\n",
              "      quickchartButtonEl.classList.add('colab-df-spinner');\n",
              "      try {\n",
              "        const charts = await google.colab.kernel.invokeFunction(\n",
              "            'suggestCharts', [key], {});\n",
              "      } catch (error) {\n",
              "        console.error('Error during call to suggestCharts:', error);\n",
              "      }\n",
              "      quickchartButtonEl.classList.remove('colab-df-spinner');\n",
              "      quickchartButtonEl.classList.add('colab-df-quickchart-complete');\n",
              "    }\n",
              "    (() => {\n",
              "      let quickchartButtonEl =\n",
              "        document.querySelector('#df-08a1b16b-a64c-431e-a4c6-c5b1ea768d9b button');\n",
              "      quickchartButtonEl.style.display =\n",
              "        google.colab.kernel.accessAllowed ? 'block' : 'none';\n",
              "    })();\n",
              "  </script>\n",
              "</div>\n",
              "\n",
              "    </div>\n",
              "  </div>\n"
            ],
            "application/vnd.google.colaboratory.intrinsic+json": {
              "type": "dataframe",
              "variable_name": "df_lucro_acima_media",
              "summary": "{\n  \"name\": \"df_lucro_acima_media\",\n  \"rows\": 238,\n  \"fields\": [\n    {\n      \"column\": \"Data\",\n      \"properties\": {\n        \"dtype\": \"object\",\n        \"num_unique_values\": 195,\n        \"samples\": [\n          \"2023-09-20\",\n          \"2023-02-07\",\n          \"2023-10-16\"\n        ],\n        \"semantic_type\": \"\",\n        \"description\": \"\"\n      }\n    },\n    {\n      \"column\": \"Receita\",\n      \"properties\": {\n        \"dtype\": \"number\",\n        \"std\": 9581,\n        \"min\": 12738,\n        \"max\": 49986,\n        \"num_unique_values\": 237,\n        \"samples\": [\n          41307,\n          45556,\n          19663\n        ],\n        \"semantic_type\": \"\",\n        \"description\": \"\"\n      }\n    },\n    {\n      \"column\": \"Custo\",\n      \"properties\": {\n        \"dtype\": \"number\",\n        \"std\": 8418,\n        \"min\": 8,\n        \"max\": 33994,\n        \"num_unique_values\": 237,\n        \"samples\": [\n          5177,\n          32385,\n          10415\n        ],\n        \"semantic_type\": \"\",\n        \"description\": \"\"\n      }\n    },\n    {\n      \"column\": \"Lucro\",\n      \"properties\": {\n        \"dtype\": \"number\",\n        \"std\": 8780,\n        \"min\": 12676,\n        \"max\": 48134,\n        \"num_unique_values\": 238,\n        \"samples\": [\n          36130,\n          13171,\n          38110\n        ],\n        \"semantic_type\": \"\",\n        \"description\": \"\"\n      }\n    },\n    {\n      \"column\": \"Quantidade de Vendas\",\n      \"properties\": {\n        \"dtype\": \"number\",\n        \"std\": 27,\n        \"min\": 1,\n        \"max\": 99,\n        \"num_unique_values\": 91,\n        \"samples\": [\n          40,\n          89,\n          49\n        ],\n        \"semantic_type\": \"\",\n        \"description\": \"\"\n      }\n    },\n    {\n      \"column\": \"Novos Clientes\",\n      \"properties\": {\n        \"dtype\": \"number\",\n        \"std\": 14,\n        \"min\": 0,\n        \"max\": 49,\n        \"num_unique_values\": 49,\n        \"samples\": [\n          4,\n          49,\n          10\n        ],\n        \"semantic_type\": \"\",\n        \"description\": \"\"\n      }\n    },\n    {\n      \"column\": \"Categoria do Produto\",\n      \"properties\": {\n        \"dtype\": \"category\",\n        \"num_unique_values\": 5,\n        \"samples\": [\n          \"M\\u00f3veis\",\n          \"Alimentos\",\n          \"Eletr\\u00f4nicos\"\n        ],\n        \"semantic_type\": \"\",\n        \"description\": \"\"\n      }\n    },\n    {\n      \"column\": \"Satisfa\\u00e7\\u00e3o do Cliente\",\n      \"properties\": {\n        \"dtype\": \"number\",\n        \"std\": 1,\n        \"min\": 1,\n        \"max\": 5,\n        \"num_unique_values\": 5,\n        \"samples\": [\n          5,\n          4,\n          3\n        ],\n        \"semantic_type\": \"\",\n        \"description\": \"\"\n      }\n    },\n    {\n      \"column\": \"Regi\\u00e3o\",\n      \"properties\": {\n        \"dtype\": \"category\",\n        \"num_unique_values\": 4,\n        \"samples\": [\n          \"Leste\",\n          \"Norte\",\n          \"Oeste\"\n        ],\n        \"semantic_type\": \"\",\n        \"description\": \"\"\n      }\n    }\n  ]\n}"
            }
          },
          "metadata": {},
          "execution_count": 22
        }
      ]
    },
    {
      "cell_type": "markdown",
      "source": [
        "### Enviando o DataFrame de produtos com lucro acima da média para o bucket no Google Cloud"
      ],
      "metadata": {
        "id": "6T0rXMFeTVPI"
      }
    },
    {
      "cell_type": "code",
      "source": [
        "df_lucro_acima_media.to_csv('produtos-com-lucro-acima-da-media.csv', index=False)\n",
        "destination_blob_name = 'lucros/produtos-com-lucro-acima-da-media.csv'\n",
        "source_file_name = 'produtos-com-lucro-acima-da-media.csv'\n",
        "blob = bucket.blob(destination_blob_name)\n",
        "blob.upload_from_filename(source_file_name)"
      ],
      "metadata": {
        "id": "bdIN7G8RTcoP"
      },
      "execution_count": 23,
      "outputs": []
    },
    {
      "cell_type": "markdown",
      "source": [
        "## 3. Avaliação da Satisfação do Cliente"
      ],
      "metadata": {
        "id": "lY7GbSp_T8jI"
      }
    },
    {
      "cell_type": "markdown",
      "source": [
        "### Criando um DataFrame apenas com 'Satisfação do Cliente' nível 5"
      ],
      "metadata": {
        "id": "tf1LP-FwUOaw"
      }
    },
    {
      "cell_type": "code",
      "source": [
        "df_satisfacao_5 = df[df[\"Satisfação do Cliente\"] == 5]\n",
        "df_satisfacao_5.head()"
      ],
      "metadata": {
        "colab": {
          "base_uri": "https://localhost:8080/",
          "height": 206
        },
        "id": "ApjHkVgFUCdJ",
        "outputId": "af16a139-2da1-4538-f412-6ae9dbcbc4b6"
      },
      "execution_count": 24,
      "outputs": [
        {
          "output_type": "execute_result",
          "data": {
            "text/plain": [
              "          Data  Receita  Custo  Lucro  Quantidade de Vendas  Novos Clientes  \\\n",
              "2   2023-01-02    36867  10699  26168                    29              12   \n",
              "3   2023-01-02    30334   5471  24863                    11              24   \n",
              "7   2023-01-05    43442  32811  10631                    32              20   \n",
              "9   2023-01-06    35695  15800  19895                    75               2   \n",
              "10  2023-01-07     2008   1245    763                    58              41   \n",
              "\n",
              "   Categoria do Produto  Satisfação do Cliente Região  \n",
              "2           Eletrônicos                      5    Sul  \n",
              "3            Brinquedos                      5  Norte  \n",
              "7             Alimentos                      5  Oeste  \n",
              "9             Alimentos                      5  Leste  \n",
              "10          Eletrônicos                      5  Norte  "
            ],
            "text/html": [
              "\n",
              "  <div id=\"df-9f5145c4-8424-4e8c-9e99-07b946c097c6\" class=\"colab-df-container\">\n",
              "    <div>\n",
              "<style scoped>\n",
              "    .dataframe tbody tr th:only-of-type {\n",
              "        vertical-align: middle;\n",
              "    }\n",
              "\n",
              "    .dataframe tbody tr th {\n",
              "        vertical-align: top;\n",
              "    }\n",
              "\n",
              "    .dataframe thead th {\n",
              "        text-align: right;\n",
              "    }\n",
              "</style>\n",
              "<table border=\"1\" class=\"dataframe\">\n",
              "  <thead>\n",
              "    <tr style=\"text-align: right;\">\n",
              "      <th></th>\n",
              "      <th>Data</th>\n",
              "      <th>Receita</th>\n",
              "      <th>Custo</th>\n",
              "      <th>Lucro</th>\n",
              "      <th>Quantidade de Vendas</th>\n",
              "      <th>Novos Clientes</th>\n",
              "      <th>Categoria do Produto</th>\n",
              "      <th>Satisfação do Cliente</th>\n",
              "      <th>Região</th>\n",
              "    </tr>\n",
              "  </thead>\n",
              "  <tbody>\n",
              "    <tr>\n",
              "      <th>2</th>\n",
              "      <td>2023-01-02</td>\n",
              "      <td>36867</td>\n",
              "      <td>10699</td>\n",
              "      <td>26168</td>\n",
              "      <td>29</td>\n",
              "      <td>12</td>\n",
              "      <td>Eletrônicos</td>\n",
              "      <td>5</td>\n",
              "      <td>Sul</td>\n",
              "    </tr>\n",
              "    <tr>\n",
              "      <th>3</th>\n",
              "      <td>2023-01-02</td>\n",
              "      <td>30334</td>\n",
              "      <td>5471</td>\n",
              "      <td>24863</td>\n",
              "      <td>11</td>\n",
              "      <td>24</td>\n",
              "      <td>Brinquedos</td>\n",
              "      <td>5</td>\n",
              "      <td>Norte</td>\n",
              "    </tr>\n",
              "    <tr>\n",
              "      <th>7</th>\n",
              "      <td>2023-01-05</td>\n",
              "      <td>43442</td>\n",
              "      <td>32811</td>\n",
              "      <td>10631</td>\n",
              "      <td>32</td>\n",
              "      <td>20</td>\n",
              "      <td>Alimentos</td>\n",
              "      <td>5</td>\n",
              "      <td>Oeste</td>\n",
              "    </tr>\n",
              "    <tr>\n",
              "      <th>9</th>\n",
              "      <td>2023-01-06</td>\n",
              "      <td>35695</td>\n",
              "      <td>15800</td>\n",
              "      <td>19895</td>\n",
              "      <td>75</td>\n",
              "      <td>2</td>\n",
              "      <td>Alimentos</td>\n",
              "      <td>5</td>\n",
              "      <td>Leste</td>\n",
              "    </tr>\n",
              "    <tr>\n",
              "      <th>10</th>\n",
              "      <td>2023-01-07</td>\n",
              "      <td>2008</td>\n",
              "      <td>1245</td>\n",
              "      <td>763</td>\n",
              "      <td>58</td>\n",
              "      <td>41</td>\n",
              "      <td>Eletrônicos</td>\n",
              "      <td>5</td>\n",
              "      <td>Norte</td>\n",
              "    </tr>\n",
              "  </tbody>\n",
              "</table>\n",
              "</div>\n",
              "    <div class=\"colab-df-buttons\">\n",
              "\n",
              "  <div class=\"colab-df-container\">\n",
              "    <button class=\"colab-df-convert\" onclick=\"convertToInteractive('df-9f5145c4-8424-4e8c-9e99-07b946c097c6')\"\n",
              "            title=\"Convert this dataframe to an interactive table.\"\n",
              "            style=\"display:none;\">\n",
              "\n",
              "  <svg xmlns=\"http://www.w3.org/2000/svg\" height=\"24px\" viewBox=\"0 -960 960 960\">\n",
              "    <path d=\"M120-120v-720h720v720H120Zm60-500h600v-160H180v160Zm220 220h160v-160H400v160Zm0 220h160v-160H400v160ZM180-400h160v-160H180v160Zm440 0h160v-160H620v160ZM180-180h160v-160H180v160Zm440 0h160v-160H620v160Z\"/>\n",
              "  </svg>\n",
              "    </button>\n",
              "\n",
              "  <style>\n",
              "    .colab-df-container {\n",
              "      display:flex;\n",
              "      gap: 12px;\n",
              "    }\n",
              "\n",
              "    .colab-df-convert {\n",
              "      background-color: #E8F0FE;\n",
              "      border: none;\n",
              "      border-radius: 50%;\n",
              "      cursor: pointer;\n",
              "      display: none;\n",
              "      fill: #1967D2;\n",
              "      height: 32px;\n",
              "      padding: 0 0 0 0;\n",
              "      width: 32px;\n",
              "    }\n",
              "\n",
              "    .colab-df-convert:hover {\n",
              "      background-color: #E2EBFA;\n",
              "      box-shadow: 0px 1px 2px rgba(60, 64, 67, 0.3), 0px 1px 3px 1px rgba(60, 64, 67, 0.15);\n",
              "      fill: #174EA6;\n",
              "    }\n",
              "\n",
              "    .colab-df-buttons div {\n",
              "      margin-bottom: 4px;\n",
              "    }\n",
              "\n",
              "    [theme=dark] .colab-df-convert {\n",
              "      background-color: #3B4455;\n",
              "      fill: #D2E3FC;\n",
              "    }\n",
              "\n",
              "    [theme=dark] .colab-df-convert:hover {\n",
              "      background-color: #434B5C;\n",
              "      box-shadow: 0px 1px 3px 1px rgba(0, 0, 0, 0.15);\n",
              "      filter: drop-shadow(0px 1px 2px rgba(0, 0, 0, 0.3));\n",
              "      fill: #FFFFFF;\n",
              "    }\n",
              "  </style>\n",
              "\n",
              "    <script>\n",
              "      const buttonEl =\n",
              "        document.querySelector('#df-9f5145c4-8424-4e8c-9e99-07b946c097c6 button.colab-df-convert');\n",
              "      buttonEl.style.display =\n",
              "        google.colab.kernel.accessAllowed ? 'block' : 'none';\n",
              "\n",
              "      async function convertToInteractive(key) {\n",
              "        const element = document.querySelector('#df-9f5145c4-8424-4e8c-9e99-07b946c097c6');\n",
              "        const dataTable =\n",
              "          await google.colab.kernel.invokeFunction('convertToInteractive',\n",
              "                                                    [key], {});\n",
              "        if (!dataTable) return;\n",
              "\n",
              "        const docLinkHtml = 'Like what you see? Visit the ' +\n",
              "          '<a target=\"_blank\" href=https://colab.research.google.com/notebooks/data_table.ipynb>data table notebook</a>'\n",
              "          + ' to learn more about interactive tables.';\n",
              "        element.innerHTML = '';\n",
              "        dataTable['output_type'] = 'display_data';\n",
              "        await google.colab.output.renderOutput(dataTable, element);\n",
              "        const docLink = document.createElement('div');\n",
              "        docLink.innerHTML = docLinkHtml;\n",
              "        element.appendChild(docLink);\n",
              "      }\n",
              "    </script>\n",
              "  </div>\n",
              "\n",
              "\n",
              "<div id=\"df-b3890e8e-0aef-44f1-884e-134b3c818c11\">\n",
              "  <button class=\"colab-df-quickchart\" onclick=\"quickchart('df-b3890e8e-0aef-44f1-884e-134b3c818c11')\"\n",
              "            title=\"Suggest charts\"\n",
              "            style=\"display:none;\">\n",
              "\n",
              "<svg xmlns=\"http://www.w3.org/2000/svg\" height=\"24px\"viewBox=\"0 0 24 24\"\n",
              "     width=\"24px\">\n",
              "    <g>\n",
              "        <path d=\"M19 3H5c-1.1 0-2 .9-2 2v14c0 1.1.9 2 2 2h14c1.1 0 2-.9 2-2V5c0-1.1-.9-2-2-2zM9 17H7v-7h2v7zm4 0h-2V7h2v10zm4 0h-2v-4h2v4z\"/>\n",
              "    </g>\n",
              "</svg>\n",
              "  </button>\n",
              "\n",
              "<style>\n",
              "  .colab-df-quickchart {\n",
              "      --bg-color: #E8F0FE;\n",
              "      --fill-color: #1967D2;\n",
              "      --hover-bg-color: #E2EBFA;\n",
              "      --hover-fill-color: #174EA6;\n",
              "      --disabled-fill-color: #AAA;\n",
              "      --disabled-bg-color: #DDD;\n",
              "  }\n",
              "\n",
              "  [theme=dark] .colab-df-quickchart {\n",
              "      --bg-color: #3B4455;\n",
              "      --fill-color: #D2E3FC;\n",
              "      --hover-bg-color: #434B5C;\n",
              "      --hover-fill-color: #FFFFFF;\n",
              "      --disabled-bg-color: #3B4455;\n",
              "      --disabled-fill-color: #666;\n",
              "  }\n",
              "\n",
              "  .colab-df-quickchart {\n",
              "    background-color: var(--bg-color);\n",
              "    border: none;\n",
              "    border-radius: 50%;\n",
              "    cursor: pointer;\n",
              "    display: none;\n",
              "    fill: var(--fill-color);\n",
              "    height: 32px;\n",
              "    padding: 0;\n",
              "    width: 32px;\n",
              "  }\n",
              "\n",
              "  .colab-df-quickchart:hover {\n",
              "    background-color: var(--hover-bg-color);\n",
              "    box-shadow: 0 1px 2px rgba(60, 64, 67, 0.3), 0 1px 3px 1px rgba(60, 64, 67, 0.15);\n",
              "    fill: var(--button-hover-fill-color);\n",
              "  }\n",
              "\n",
              "  .colab-df-quickchart-complete:disabled,\n",
              "  .colab-df-quickchart-complete:disabled:hover {\n",
              "    background-color: var(--disabled-bg-color);\n",
              "    fill: var(--disabled-fill-color);\n",
              "    box-shadow: none;\n",
              "  }\n",
              "\n",
              "  .colab-df-spinner {\n",
              "    border: 2px solid var(--fill-color);\n",
              "    border-color: transparent;\n",
              "    border-bottom-color: var(--fill-color);\n",
              "    animation:\n",
              "      spin 1s steps(1) infinite;\n",
              "  }\n",
              "\n",
              "  @keyframes spin {\n",
              "    0% {\n",
              "      border-color: transparent;\n",
              "      border-bottom-color: var(--fill-color);\n",
              "      border-left-color: var(--fill-color);\n",
              "    }\n",
              "    20% {\n",
              "      border-color: transparent;\n",
              "      border-left-color: var(--fill-color);\n",
              "      border-top-color: var(--fill-color);\n",
              "    }\n",
              "    30% {\n",
              "      border-color: transparent;\n",
              "      border-left-color: var(--fill-color);\n",
              "      border-top-color: var(--fill-color);\n",
              "      border-right-color: var(--fill-color);\n",
              "    }\n",
              "    40% {\n",
              "      border-color: transparent;\n",
              "      border-right-color: var(--fill-color);\n",
              "      border-top-color: var(--fill-color);\n",
              "    }\n",
              "    60% {\n",
              "      border-color: transparent;\n",
              "      border-right-color: var(--fill-color);\n",
              "    }\n",
              "    80% {\n",
              "      border-color: transparent;\n",
              "      border-right-color: var(--fill-color);\n",
              "      border-bottom-color: var(--fill-color);\n",
              "    }\n",
              "    90% {\n",
              "      border-color: transparent;\n",
              "      border-bottom-color: var(--fill-color);\n",
              "    }\n",
              "  }\n",
              "</style>\n",
              "\n",
              "  <script>\n",
              "    async function quickchart(key) {\n",
              "      const quickchartButtonEl =\n",
              "        document.querySelector('#' + key + ' button');\n",
              "      quickchartButtonEl.disabled = true;  // To prevent multiple clicks.\n",
              "      quickchartButtonEl.classList.add('colab-df-spinner');\n",
              "      try {\n",
              "        const charts = await google.colab.kernel.invokeFunction(\n",
              "            'suggestCharts', [key], {});\n",
              "      } catch (error) {\n",
              "        console.error('Error during call to suggestCharts:', error);\n",
              "      }\n",
              "      quickchartButtonEl.classList.remove('colab-df-spinner');\n",
              "      quickchartButtonEl.classList.add('colab-df-quickchart-complete');\n",
              "    }\n",
              "    (() => {\n",
              "      let quickchartButtonEl =\n",
              "        document.querySelector('#df-b3890e8e-0aef-44f1-884e-134b3c818c11 button');\n",
              "      quickchartButtonEl.style.display =\n",
              "        google.colab.kernel.accessAllowed ? 'block' : 'none';\n",
              "    })();\n",
              "  </script>\n",
              "</div>\n",
              "\n",
              "    </div>\n",
              "  </div>\n"
            ],
            "application/vnd.google.colaboratory.intrinsic+json": {
              "type": "dataframe",
              "variable_name": "df_satisfacao_5",
              "repr_error": "0"
            }
          },
          "metadata": {},
          "execution_count": 24
        }
      ]
    },
    {
      "cell_type": "markdown",
      "source": [
        "### Comparando os faturamentos"
      ],
      "metadata": {
        "id": "xVsJcgtDUiJo"
      }
    },
    {
      "cell_type": "code",
      "source": [
        "faturamento_medio_geral = df[\"Receita\"].mean()\n",
        "print(f\"Faturamento Médio Geral: {faturamento_medio_geral:.2f}\")"
      ],
      "metadata": {
        "colab": {
          "base_uri": "https://localhost:8080/"
        },
        "id": "BstkLrMoUxbJ",
        "outputId": "54aac7da-1a7d-4fb3-b9ab-97122baffbb4"
      },
      "execution_count": 25,
      "outputs": [
        {
          "output_type": "stream",
          "name": "stdout",
          "text": [
            "Faturamento Médio Geral: 25647.40\n"
          ]
        }
      ]
    },
    {
      "cell_type": "code",
      "source": [
        "faturamento_medio_satisfacao_5 = df_satisfacao_5[\"Receita\"].mean()\n",
        "print(f\"Faturamento Médio (Satisfação 5): {faturamento_medio_satisfacao_5:.2f}\")"
      ],
      "metadata": {
        "colab": {
          "base_uri": "https://localhost:8080/"
        },
        "id": "3NaGrwpxU2Gh",
        "outputId": "4a2e569d-6040-4ec0-a78c-4af3b47a36c1"
      },
      "execution_count": 26,
      "outputs": [
        {
          "output_type": "stream",
          "name": "stdout",
          "text": [
            "Faturamento Médio (Satisfação 5): 26798.24\n"
          ]
        }
      ]
    },
    {
      "cell_type": "code",
      "source": [
        "if faturamento_medio_satisfacao_5 > faturamento_medio_geral:\n",
        "    print(\"O faturamento médio das vendas com Satisfação 5 é maior que o faturamento médio geral.\")\n",
        "else:\n",
        "    print(\"O faturamento médio das vendas com Satisfação 5 é menor que o faturamento médio geral.\")"
      ],
      "metadata": {
        "colab": {
          "base_uri": "https://localhost:8080/"
        },
        "id": "mVYNmVF8U8R4",
        "outputId": "d8328775-3555-4b76-9148-b9c1c8d2fc49"
      },
      "execution_count": 27,
      "outputs": [
        {
          "output_type": "stream",
          "name": "stdout",
          "text": [
            "O faturamento médio das vendas com Satisfação 5 é maior que o faturamento médio geral.\n"
          ]
        }
      ]
    },
    {
      "cell_type": "markdown",
      "source": [
        "### Enviando para o Google Cloud"
      ],
      "metadata": {
        "id": "Zp-Sd318VGOo"
      }
    },
    {
      "cell_type": "code",
      "source": [
        "df_satisfacao_5.to_csv('satisfacao-maxima.csv', index=False)\n",
        "destination_blob_name = 'satisfacao/satisfacao-maxima.csv'\n",
        "source_file_name = 'satisfacao-maxima.csv'\n",
        "blob = bucket.blob(destination_blob_name)\n",
        "blob.upload_from_filename(source_file_name)"
      ],
      "metadata": {
        "id": "OaY1cGeOVOyI"
      },
      "execution_count": 28,
      "outputs": []
    }
  ]
}